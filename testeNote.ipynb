{
 "cells": [
  {
   "cell_type": "code",
   "execution_count": 1,
   "metadata": {},
   "outputs": [],
   "source": [
    "from Reg_Models import RegModels\n",
    "\n",
    "import pandas as pd\n",
    "import numpy as np\n",
    "\n",
    "import matplotlib.pyplot as plt\n",
    "\n",
    "\n",
    "from sklearn import linear_model\n",
    "from sklearn import ensemble\n",
    "from sklearn import neighbors\n",
    "\n",
    "from sklearn import model_selection\n",
    "import xgboost\n",
    "\n",
    "data = pd.read_csv(\"./dados/FRA3-FRA6_cleaned_feature_engineered.csv.zip\")"
   ]
  },
  {
   "cell_type": "code",
   "execution_count": 2,
   "metadata": {},
   "outputs": [],
   "source": [
    "\n",
    "def create_scaled_dataset(X, y):\n",
    "    from sklearn.model_selection import cross_val_score, train_test_split\n",
    "    from sklearn.preprocessing import StandardScaler\n",
    "    X_train, X_test, y_train, y_test = train_test_split(\n",
    "        X, y, test_size=0.3, random_state=0)\n",
    "\n",
    "    std_scaler = StandardScaler()\n",
    "    X_scaled_train = pd.DataFrame(std_scaler.fit_transform(\n",
    "        X_train), columns=X_train.columns, index=X_train.index)\n",
    "    X_scaled_test = pd.DataFrame(std_scaler.transform(\n",
    "        X_test), columns=X_train.columns, index=X_test.index)\n",
    "    return X_scaled_train, X_scaled_test, y_train, y_test"
   ]
  },
  {
   "cell_type": "code",
   "execution_count": 3,
   "metadata": {},
   "outputs": [],
   "source": [
    "target = \"Vert_irreg_right_rail\"\n",
    "\n",
    "y = data[target]\n",
    "X = data.drop(columns=target)\n",
    "\n",
    "\n",
    "X_train, X_test, y_train, y_test = create_scaled_dataset(X, y)\n"
   ]
  },
  {
   "cell_type": "code",
   "execution_count": 5,
   "metadata": {},
   "outputs": [],
   "source": [
    "reg = RegModels(modo=\"fit\", X_trainS=X_train, X_testS=X_test, y_trainS=y_train, y_testS=y_test)"
   ]
  },
  {
   "cell_type": "code",
   "execution_count": 6,
   "metadata": {},
   "outputs": [],
   "source": [
    "\n",
    "minhaLista = {'Lasso': 20,\n",
    "              'Random_Forest':  5,\n",
    "              'Elastic_Net':  5,\n",
    "              \n",
    "              'Ada_Boost':  4,\n",
    "              'Ridge':  20,\n",
    "              'XGBR': 8,\n",
    "              'Extra_Trees': 10,\n",
    "              'Cat_Boost': 4,\n",
    "              'Light_Boost': 4,\n",
    "              'KNN_Regressor': 5,\n",
    "              'SGD_Reg': 6\n",
    "              }\n",
    "\n",
    "# minhaLista ={'KNN_Regressor': 4}\n",
    "\n",
    "\n",
    "# reg.fit_models(minhaLista)\n"
   ]
  },
  {
   "cell_type": "code",
   "execution_count": 7,
   "metadata": {},
   "outputs": [
    {
     "name": "stdout",
     "output_type": "stream",
     "text": [
      "[13:28:03] WARNING: ../src/learner.cc:573: \n",
      "Parameters: { \"max_deph\" } might not be used.\n",
      "\n",
      "  This may not be accurate due to some parameters are only used in language bindings but\n",
      "  passed down to XGBoost core.  Or some parameters are not used but slip through this\n",
      "  verification. Please open an issue if you find above cases.\n",
      "\n",
      "\n",
      "[LightGBM] [Warning] Unknown parameter: min_samples_split\n"
     ]
    }
   ],
   "source": [
    "reg.fit_models()"
   ]
  },
  {
   "cell_type": "code",
   "execution_count": 8,
   "metadata": {},
   "outputs": [
    {
     "name": "stdout",
     "output_type": "stream",
     "text": [
      "                        MAE      MAPE      RMSE        R2\n",
      "Ada_Boost.sav      2.848766  5.643297  3.549416  0.609346\n",
      "Cat_Boost.sav      0.799727  2.404727  1.103152  0.962265\n",
      "Elastic_Net.sav    2.981463  4.816962  3.760300  0.561547\n",
      "Extra_Trees.sav    1.292763  1.818249  1.774673  0.902340\n",
      "KNN_Regressor.sav  0.342888  0.637465  1.015235  0.968040\n",
      "Lasso.sav          2.915764  4.227647  3.676292  0.580919\n",
      "Light_Boost.sav    2.223804  3.832153  2.795476  0.757680\n",
      "Random_Forest.sav  1.596522  2.924288  2.165677  0.854566\n",
      "Ridge.sav          2.884937  4.877467  3.629593  0.591498\n",
      "SGD_Reg.sav        3.440823  4.738804  4.352966  0.412445\n",
      "XGBR.sav           1.515086  2.951318  1.968124  0.879889\n"
     ]
    }
   ],
   "source": [
    "print(reg.models_performace())"
   ]
  },
  {
   "cell_type": "code",
   "execution_count": null,
   "metadata": {},
   "outputs": [],
   "source": [
    "reg.stack_models()"
   ]
  },
  {
   "cell_type": "code",
   "execution_count": null,
   "metadata": {},
   "outputs": [],
   "source": []
  }
 ],
 "metadata": {
  "interpreter": {
   "hash": "916dbcbb3f70747c44a77c7bcd40155683ae19c65e1c03b4aa3499c5328201f1"
  },
  "kernelspec": {
   "display_name": "Python 3",
   "language": "python",
   "name": "python3"
  },
  "language_info": {
   "codemirror_mode": {
    "name": "ipython",
    "version": 3
   },
   "file_extension": ".py",
   "mimetype": "text/x-python",
   "name": "python",
   "nbconvert_exporter": "python",
   "pygments_lexer": "ipython3",
   "version": "3.8.5"
  }
 },
 "nbformat": 4,
 "nbformat_minor": 2
}

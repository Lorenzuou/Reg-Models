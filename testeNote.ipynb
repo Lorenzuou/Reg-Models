{
 "cells": [
  {
   "cell_type": "code",
   "execution_count": 1,
   "source": [
    "from Reg_Models import RegModels\n",
    "\n",
    "import pandas as pd\n",
    "import numpy as np\n",
    "\n",
    "import matplotlib.pyplot as plt\n",
    "\n",
    "\n",
    "from sklearn import linear_model\n",
    "from sklearn import ensemble\n",
    "from sklearn import neighbors\n",
    "\n",
    "from sklearn import model_selection\n",
    "import xgboost\n",
    "\n",
    "data = pd.read_csv(\"./dados/FRA3-FRA6_cleaned_feature_engineered.csv.zip\")"
   ],
   "outputs": [],
   "metadata": {}
  },
  {
   "cell_type": "code",
   "execution_count": 2,
   "source": [
    "\n",
    "def create_scaled_dataset(X, y):\n",
    "    from sklearn.model_selection import cross_val_score, train_test_split\n",
    "    from sklearn.preprocessing import StandardScaler\n",
    "    X_train, X_test, y_train, y_test = train_test_split(\n",
    "        X, y, test_size=0.3, random_state=0)\n",
    "\n",
    "    std_scaler = StandardScaler()\n",
    "    X_scaled_train = pd.DataFrame(std_scaler.fit_transform(\n",
    "        X_train), columns=X_train.columns, index=X_train.index)\n",
    "    X_scaled_test = pd.DataFrame(std_scaler.transform(\n",
    "        X_test), columns=X_train.columns, index=X_test.index)\n",
    "    return X_scaled_train, X_scaled_test, y_train, y_test"
   ],
   "outputs": [],
   "metadata": {}
  },
  {
   "cell_type": "code",
   "execution_count": 3,
   "source": [
    "target = \"Vert_irreg_right_rail\"\n",
    "\n",
    "y = data[target]\n",
    "X = data.drop(columns=target)\n",
    "\n",
    "\n",
    "X_train, X_test, y_train, y_test = create_scaled_dataset(X, y)\n"
   ],
   "outputs": [],
   "metadata": {}
  },
  {
   "cell_type": "code",
   "execution_count": 4,
   "source": [
    "reg = RegModels(modo=\"optimize\", X_trainS=X_train, X_testS=X_test, y_trainS=y_train, y_testS=y_test)"
   ],
   "outputs": [],
   "metadata": {}
  },
  {
   "cell_type": "code",
   "execution_count": 5,
   "source": [
    "\n",
    "minhaLista = {'Lasso': 20,\n",
    "              'Random_Forest':  5,\n",
    "              'Elastic_Net':  5,\n",
    "              \n",
    "              'Ada_Boost':  4,\n",
    "              'Ridge':  20,\n",
    "              'XGBR': 8,\n",
    "              'Extra_Trees': 10,\n",
    "              'Cat_Boost': 4,\n",
    "              'Light_Boost': 4,\n",
    "              'KNN_Regressor': 5,\n",
    "              'SGD_Reg': 6\n",
    "              }\n",
    "\n",
    "minhaLista ={'Lasso': 4,'Ridge':  20}\n",
    "\n",
    "reg.fit_models(minhaLista)\n"
   ],
   "outputs": [
    {
     "output_type": "stream",
     "name": "stderr",
     "text": [
      "\u001b[32m[I 2021-08-23 13:21:07,194]\u001b[0m A new study created in memory with name: no-name-19a94ba2-e5ef-4ee6-b65f-600514908b71\u001b[0m\n"
     ]
    },
    {
     "output_type": "stream",
     "name": "stdout",
     "text": [
      "Optimizing model Lasso\n"
     ]
    },
    {
     "output_type": "stream",
     "name": "stderr",
     "text": [
      "\u001b[32m[I 2021-08-23 13:21:07,451]\u001b[0m Trial 0 finished with value: 0.5104186774653321 and parameters: {'alpha': 0.37474557866329306}. Best is trial 0 with value: 0.5104186774653321.\u001b[0m\n",
      "\u001b[32m[I 2021-08-23 13:21:07,808]\u001b[0m Trial 1 finished with value: 0.5694874880522476 and parameters: {'alpha': 0.16438422822710536}. Best is trial 1 with value: 0.5694874880522476.\u001b[0m\n",
      "\u001b[32m[I 2021-08-23 13:21:07,935]\u001b[0m Trial 2 finished with value: 0.4924170168726807 and parameters: {'alpha': 0.44719670039844617}. Best is trial 1 with value: 0.5694874880522476.\u001b[0m\n",
      "\u001b[32m[I 2021-08-23 13:21:08,070]\u001b[0m Trial 3 finished with value: 0.49406382970838336 and parameters: {'alpha': 0.44105588930221984}. Best is trial 1 with value: 0.5694874880522476.\u001b[0m\n",
      "\u001b[32m[I 2021-08-23 13:21:08,100]\u001b[0m A new study created in memory with name: no-name-f26a91f8-5c02-4d9d-a4d0-d12b90acda34\u001b[0m\n",
      "\u001b[32m[I 2021-08-23 13:21:08,196]\u001b[0m Trial 0 finished with value: 0.5912537816202549 and parameters: {'alpha': 498.2332076397168}. Best is trial 0 with value: 0.5912537816202549.\u001b[0m\n",
      "\u001b[32m[I 2021-08-23 13:21:08,243]\u001b[0m Trial 1 finished with value: 0.5913153020015054 and parameters: {'alpha': 440.9728828787618}. Best is trial 1 with value: 0.5913153020015054.\u001b[0m\n"
     ]
    },
    {
     "output_type": "stream",
     "name": "stdout",
     "text": [
      "FrozenTrial(number=1, values=[0.5694874880522476], datetime_start=datetime.datetime(2021, 8, 23, 13, 21, 7, 453433), datetime_complete=datetime.datetime(2021, 8, 23, 13, 21, 7, 807636), params={'alpha': 0.16438422822710536}, distributions={'alpha': UniformDistribution(high=1.0, low=0.1)}, user_attrs={'best_model': Lasso(alpha=0.16438422822710536)}, system_attrs={}, intermediate_values={0: 0.5694874880522476}, trial_id=1, state=TrialState.COMPLETE, value=None)\n",
      "\n",
      "\n",
      "Model concluded:  Lasso(alpha=0.16438422822710536) saved as 'Lasso.sav' \n",
      " \n",
      "Optimizing model Ridge\n"
     ]
    },
    {
     "output_type": "stream",
     "name": "stderr",
     "text": [
      "\u001b[32m[I 2021-08-23 13:21:08,310]\u001b[0m Trial 2 finished with value: 0.5914868510027985 and parameters: {'alpha': 36.78097222839129}. Best is trial 2 with value: 0.5914868510027985.\u001b[0m\n",
      "\u001b[32m[I 2021-08-23 13:21:08,357]\u001b[0m Trial 3 finished with value: 0.5913650058938466 and parameters: {'alpha': 388.57559242185624}. Best is trial 2 with value: 0.5914868510027985.\u001b[0m\n",
      "\u001b[32m[I 2021-08-23 13:21:08,416]\u001b[0m Trial 4 finished with value: 0.5914880446930327 and parameters: {'alpha': 182.8283749065292}. Best is trial 4 with value: 0.5914880446930327.\u001b[0m\n",
      "\u001b[32m[I 2021-08-23 13:21:08,463]\u001b[0m Trial 5 finished with value: 0.5914658889669595 and parameters: {'alpha': 241.7748987262307}. Best is trial 4 with value: 0.5914880446930327.\u001b[0m\n",
      "\u001b[32m[I 2021-08-23 13:21:08,515]\u001b[0m Trial 6 pruned. \u001b[0m\n",
      "\u001b[32m[I 2021-08-23 13:21:08,571]\u001b[0m Trial 7 finished with value: 0.5914411596498504 and parameters: {'alpha': 287.3150497230147}. Best is trial 4 with value: 0.5914880446930327.\u001b[0m\n",
      "\u001b[32m[I 2021-08-23 13:21:08,627]\u001b[0m Trial 8 pruned. \u001b[0m\n",
      "\u001b[32m[I 2021-08-23 13:21:08,688]\u001b[0m Trial 9 finished with value: 0.5914740716553836 and parameters: {'alpha': 223.3072454721202}. Best is trial 4 with value: 0.5914880446930327.\u001b[0m\n",
      "\u001b[32m[I 2021-08-23 13:21:08,760]\u001b[0m Trial 10 finished with value: 0.5914978524885144 and parameters: {'alpha': 95.07358999217935}. Best is trial 10 with value: 0.5914978524885144.\u001b[0m\n",
      "\u001b[32m[I 2021-08-23 13:21:08,818]\u001b[0m Trial 11 finished with value: 0.5914953289789283 and parameters: {'alpha': 72.19090954294991}. Best is trial 10 with value: 0.5914978524885144.\u001b[0m\n",
      "\u001b[32m[I 2021-08-23 13:21:08,884]\u001b[0m Trial 12 finished with value: 0.591483180754026 and parameters: {'alpha': 26.187955181110894}. Best is trial 10 with value: 0.5914978524885144.\u001b[0m\n",
      "\u001b[32m[I 2021-08-23 13:21:08,945]\u001b[0m Trial 13 finished with value: 0.5914983101188039 and parameters: {'alpha': 110.55922639090657}. Best is trial 13 with value: 0.5914983101188039.\u001b[0m\n",
      "\u001b[32m[I 2021-08-23 13:21:09,005]\u001b[0m Trial 14 finished with value: 0.5914976994516641 and parameters: {'alpha': 127.47223896273213}. Best is trial 13 with value: 0.5914983101188039.\u001b[0m\n",
      "\u001b[32m[I 2021-08-23 13:21:09,076]\u001b[0m Trial 15 finished with value: 0.5914981605789489 and parameters: {'alpha': 118.64407502065782}. Best is trial 13 with value: 0.5914983101188039.\u001b[0m\n",
      "\u001b[32m[I 2021-08-23 13:21:09,122]\u001b[0m Trial 16 finished with value: 0.5914946167061057 and parameters: {'alpha': 153.28542187604032}. Best is trial 13 with value: 0.5914983101188039.\u001b[0m\n",
      "\u001b[32m[I 2021-08-23 13:21:09,170]\u001b[0m Trial 17 pruned. \u001b[0m\n",
      "\u001b[32m[I 2021-08-23 13:21:09,226]\u001b[0m Trial 18 pruned. \u001b[0m\n",
      "\u001b[32m[I 2021-08-23 13:21:09,291]\u001b[0m Trial 19 pruned. \u001b[0m\n"
     ]
    },
    {
     "output_type": "stream",
     "name": "stdout",
     "text": [
      "FrozenTrial(number=13, values=[0.5914983101188039], datetime_start=datetime.datetime(2021, 8, 23, 13, 21, 8, 885168), datetime_complete=datetime.datetime(2021, 8, 23, 13, 21, 8, 945040), params={'alpha': 110.55922639090657}, distributions={'alpha': UniformDistribution(high=500.0, low=0.1)}, user_attrs={'best_model': Ridge(alpha=110.55922639090657)}, system_attrs={}, intermediate_values={0: 0.5914983101188039}, trial_id=13, state=TrialState.COMPLETE, value=None)\n",
      "\n",
      "\n",
      "Model concluded:  Ridge(alpha=110.55922639090657) saved as 'Ridge.sav' \n",
      " \n"
     ]
    }
   ],
   "metadata": {}
  },
  {
   "cell_type": "code",
   "execution_count": 12,
   "source": [
    "\n",
    "\n",
    "reg.models_performace(['Lasso'])"
   ],
   "outputs": [
    {
     "output_type": "error",
     "ename": "TypeError",
     "evalue": "list indices must be integers or slices, not str",
     "traceback": [
      "\u001b[0;31m---------------------------------------------------------------------------\u001b[0m",
      "\u001b[0;31mTypeError\u001b[0m                                 Traceback (most recent call last)",
      "\u001b[0;32m<ipython-input-12-9409db7665eb>\u001b[0m in \u001b[0;36m<module>\u001b[0;34m\u001b[0m\n\u001b[0;32m----> 1\u001b[0;31m \u001b[0mreg\u001b[0m\u001b[0;34m.\u001b[0m\u001b[0mmodels_performace\u001b[0m\u001b[0;34m(\u001b[0m\u001b[0;34m[\u001b[0m\u001b[0;34m'Lasso'\u001b[0m\u001b[0;34m]\u001b[0m\u001b[0;34m)\u001b[0m\u001b[0;34m\u001b[0m\u001b[0;34m\u001b[0m\u001b[0m\n\u001b[0m",
      "\u001b[0;32m/mnt/f/Programacao/python/RegModels/Reg_Models.py\u001b[0m in \u001b[0;36mmodels_performace\u001b[0;34m(self, modelsList)\u001b[0m\n\u001b[1;32m    208\u001b[0m                     \u001b[0mtest_metrics\u001b[0m\u001b[0;34m.\u001b[0m\u001b[0mappend\u001b[0m\u001b[0;34m(\u001b[0m\u001b[0mcalculate_metrics\u001b[0m\u001b[0;34m(\u001b[0m\u001b[0my_test\u001b[0m\u001b[0;34m,\u001b[0m \u001b[0mtest_pred\u001b[0m\u001b[0;34m,\u001b[0m \u001b[0mm\u001b[0m\u001b[0;34m[\u001b[0m\u001b[0;36m0\u001b[0m\u001b[0;34m]\u001b[0m\u001b[0;34m)\u001b[0m\u001b[0;34m)\u001b[0m\u001b[0;34m\u001b[0m\u001b[0;34m\u001b[0m\u001b[0m\n\u001b[1;32m    209\u001b[0m                 \u001b[0;32melse\u001b[0m\u001b[0;34m:\u001b[0m\u001b[0;34m\u001b[0m\u001b[0;34m\u001b[0m\u001b[0m\n\u001b[0;32m--> 210\u001b[0;31m                     \u001b[0;32mif\u001b[0m\u001b[0;34m(\u001b[0m\u001b[0mmodelsList\u001b[0m\u001b[0;34m[\u001b[0m\u001b[0mm\u001b[0m\u001b[0;34m[\u001b[0m\u001b[0;36m0\u001b[0m\u001b[0;34m]\u001b[0m\u001b[0;34m]\u001b[0m\u001b[0;34m)\u001b[0m\u001b[0;34m:\u001b[0m\u001b[0;34m\u001b[0m\u001b[0;34m\u001b[0m\u001b[0m\n\u001b[0m\u001b[1;32m    211\u001b[0m                         \u001b[0mtest_pred\u001b[0m \u001b[0;34m=\u001b[0m \u001b[0mm\u001b[0m\u001b[0;34m[\u001b[0m\u001b[0;36m1\u001b[0m\u001b[0;34m]\u001b[0m\u001b[0;34m.\u001b[0m\u001b[0mpredict\u001b[0m\u001b[0;34m(\u001b[0m\u001b[0mX_test\u001b[0m\u001b[0;34m)\u001b[0m\u001b[0;34m\u001b[0m\u001b[0;34m\u001b[0m\u001b[0m\n\u001b[1;32m    212\u001b[0m                         \u001b[0mscoreList\u001b[0m\u001b[0;34m.\u001b[0m\u001b[0mappend\u001b[0m\u001b[0;34m(\u001b[0m\u001b[0mm\u001b[0m\u001b[0;34m[\u001b[0m\u001b[0;36m1\u001b[0m\u001b[0;34m]\u001b[0m\u001b[0;34m.\u001b[0m\u001b[0mscore\u001b[0m\u001b[0;34m(\u001b[0m\u001b[0mX_test\u001b[0m\u001b[0;34m,\u001b[0m \u001b[0my_test\u001b[0m\u001b[0;34m)\u001b[0m\u001b[0;34m)\u001b[0m\u001b[0;34m\u001b[0m\u001b[0;34m\u001b[0m\u001b[0m\n",
      "\u001b[0;31mTypeError\u001b[0m: list indices must be integers or slices, not str"
     ]
    }
   ],
   "metadata": {}
  },
  {
   "cell_type": "code",
   "execution_count": 7,
   "source": [
    "print(reg.models_performace())"
   ],
   "outputs": [
    {
     "output_type": "stream",
     "name": "stdout",
     "text": [
      "            MAE      MAPE      RMSE        R2\n",
      "Lasso  2.952596  4.023753  3.726095  0.569487\n",
      "Ridge  2.884937  4.877626  3.629593  0.591498\n"
     ]
    }
   ],
   "metadata": {}
  },
  {
   "cell_type": "code",
   "execution_count": null,
   "source": [
    "reg.stack_models()"
   ],
   "outputs": [],
   "metadata": {}
  },
  {
   "cell_type": "code",
   "execution_count": null,
   "source": [],
   "outputs": [],
   "metadata": {}
  }
 ],
 "metadata": {
  "interpreter": {
   "hash": "916dbcbb3f70747c44a77c7bcd40155683ae19c65e1c03b4aa3499c5328201f1"
  },
  "kernelspec": {
   "name": "python3",
   "display_name": "Python 3.8.5 64-bit"
  },
  "language_info": {
   "codemirror_mode": {
    "name": "ipython",
    "version": 3
   },
   "file_extension": ".py",
   "mimetype": "text/x-python",
   "name": "python",
   "nbconvert_exporter": "python",
   "pygments_lexer": "ipython3",
   "version": "3.8.5"
  }
 },
 "nbformat": 4,
 "nbformat_minor": 2
}
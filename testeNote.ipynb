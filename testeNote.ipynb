{
 "cells": [
  {
   "cell_type": "code",
   "execution_count": 1,
   "source": [
    "from Reg_Models import RegModels\n",
    "\n",
    "import pandas as pd\n",
    "import numpy as np\n",
    "\n",
    "import matplotlib.pyplot as plt\n",
    "\n",
    "\n",
    "from sklearn import linear_model\n",
    "from sklearn import ensemble\n",
    "from sklearn import neighbors\n",
    "\n",
    "from sklearn import model_selection\n",
    "import xgboost\n",
    "\n",
    "data = pd.read_csv(\"./dados/FRA3-FRA6_cleaned_feature_engineered.csv.zip\")"
   ],
   "outputs": [],
   "metadata": {}
  },
  {
   "cell_type": "code",
   "execution_count": 2,
   "source": [
    "\n",
    "def create_scaled_dataset(X, y):\n",
    "    from sklearn.model_selection import cross_val_score, train_test_split\n",
    "    from sklearn.preprocessing import StandardScaler\n",
    "    X_train, X_test, y_train, y_test = train_test_split(\n",
    "        X, y, test_size=0.3, random_state=0)\n",
    "\n",
    "    std_scaler = StandardScaler()\n",
    "    X_scaled_train = pd.DataFrame(std_scaler.fit_transform(\n",
    "        X_train), columns=X_train.columns, index=X_train.index)\n",
    "    X_scaled_test = pd.DataFrame(std_scaler.transform(\n",
    "        X_test), columns=X_train.columns, index=X_test.index)\n",
    "    return X_scaled_train, X_scaled_test, y_train, y_test"
   ],
   "outputs": [],
   "metadata": {}
  },
  {
   "cell_type": "code",
   "execution_count": 3,
   "source": [
    "target = \"Vert_irreg_right_rail\"\n",
    "\n",
    "y = data[target]\n",
    "X = data.drop(columns=target)\n",
    "\n",
    "\n",
    "X_train, X_test, y_train, y_test = create_scaled_dataset(X, y)\n"
   ],
   "outputs": [],
   "metadata": {}
  },
  {
   "cell_type": "code",
   "execution_count": 4,
   "source": [
    "reg = RegModels(modo=\"optimize\", X_trainS=X_train, X_testS=X_test, y_trainS=y_train, y_testS=y_test)"
   ],
   "outputs": [],
   "metadata": {}
  },
  {
   "cell_type": "code",
   "execution_count": 5,
   "source": [
    "\n",
    "# minhaLista = {'Lasso': 20,\n",
    "#               'Random_Forest':  5,\n",
    "#               'Elastic_Net':  5,\n",
    "#               'Ada_Boost':  4,\n",
    "#               'Ridge':  20,\n",
    "#               'XGBR': 8,\n",
    "#               'Extra_Trees': 10,\n",
    "#               'Cat_Boost': 4,\n",
    "#               'Light_Boost': 4,\n",
    "#               'KNN_Regressor': 5,\n",
    "#               'SGD_Reg': 6\n",
    "#               }\n",
    "\n",
    "minhaLista ={'Lasso': 10}\n",
    "\n",
    "reg.fit_models(minhaLista,'fitted_models',verbose=True)\n"
   ],
   "outputs": [
    {
     "output_type": "stream",
     "name": "stderr",
     "text": [
      "  0%|          | 0/1 [00:00<?, ?it/s]\u001b[32m[I 2021-08-30 13:54:35,910]\u001b[0m A new study created in memory with name: Lasso\u001b[0m\n"
     ]
    },
    {
     "output_type": "stream",
     "name": "stdout",
     "text": [
      "Optimizing model Lasso\n"
     ]
    },
    {
     "output_type": "stream",
     "name": "stderr",
     "text": [
      "\u001b[32m[I 2021-08-30 13:54:38,654]\u001b[0m Trial 0 finished with value: 0.5805505095803877 and parameters: {'alpha': 0.10424528107375816}. Best is trial 0 with value: 0.5805505095803877.\u001b[0m\n",
      "\u001b[32m[I 2021-08-30 13:54:40,297]\u001b[0m Trial 1 finished with value: 0.5893997585037231 and parameters: {'alpha': 0.027819085904379568}. Best is trial 1 with value: 0.5893997585037231.\u001b[0m\n",
      "\u001b[32m[I 2021-08-30 13:54:40,577]\u001b[0m Trial 2 finished with value: 0.5235932674556767 and parameters: {'alpha': 0.32507198826131395}. Best is trial 1 with value: 0.5893997585037231.\u001b[0m\n",
      "\u001b[32m[I 2021-08-30 13:54:41,077]\u001b[0m Trial 3 finished with value: 0.5843623116121041 and parameters: {'alpha': 0.07616614493379197}. Best is trial 1 with value: 0.5893997585037231.\u001b[0m\n",
      "\u001b[32m[I 2021-08-30 13:54:41,224]\u001b[0m Trial 4 finished with value: 0.5447672817740505 and parameters: {'alpha': 0.2570659974869693}. Best is trial 1 with value: 0.5893997585037231.\u001b[0m\n",
      "\u001b[32m[I 2021-08-30 13:54:41,765]\u001b[0m Trial 5 finished with value: 0.5896417708773033 and parameters: {'alpha': 0.02526959710711987}. Best is trial 5 with value: 0.5896417708773033.\u001b[0m\n",
      "\u001b[32m[I 2021-08-30 13:54:42,260]\u001b[0m Trial 6 finished with value: 0.5893093414063935 and parameters: {'alpha': 0.028713757011371112}. Best is trial 5 with value: 0.5896417708773033.\u001b[0m\n",
      "\u001b[32m[I 2021-08-30 13:54:42,690]\u001b[0m Trial 7 finished with value: 0.5888870455364323 and parameters: {'alpha': 0.033556114582242946}. Best is trial 5 with value: 0.5896417708773033.\u001b[0m\n",
      "\u001b[32m[I 2021-08-30 13:54:42,771]\u001b[0m Trial 8 pruned. \u001b[0m\n",
      "\u001b[32m[I 2021-08-30 13:54:42,953]\u001b[0m Trial 9 pruned. \u001b[0m\n",
      "100%|██████████| 1/1 [00:07<00:00,  7.07s/it]"
     ]
    },
    {
     "output_type": "stream",
     "name": "stdout",
     "text": [
      "FrozenTrial(number=5, values=[0.5896417708773033], datetime_start=datetime.datetime(2021, 8, 30, 13, 54, 41, 225869), datetime_complete=datetime.datetime(2021, 8, 30, 13, 54, 41, 764711), params={'alpha': 0.02526959710711987}, distributions={'alpha': LogUniformDistribution(high=1.0, low=0.02)}, user_attrs={'best_model': Lasso(alpha=0.02526959710711987)}, system_attrs={}, intermediate_values={0: 0.5896417708773033}, trial_id=5, state=TrialState.COMPLETE, value=None)\n",
      "\n",
      "\n",
      "Model concluded:  Lasso(alpha=0.02526959710711987) saved as 'Lasso.sav' \n",
      " \n"
     ]
    },
    {
     "output_type": "stream",
     "name": "stderr",
     "text": [
      "\n"
     ]
    }
   ],
   "metadata": {}
  },
  {
   "cell_type": "code",
   "execution_count": 7,
   "source": [
    "study = reg.continue_optimization({\"Lasso\",12})\n",
    "study\n",
    "# print(\"Best trial until now:\")\n",
    "# print(\" Value: \", study.best_trial.value)\n",
    "# print(\" Params: \")\n",
    "# for key, value in study.best_trial.params.items():\n",
    "#     print(f\"    {key}: {value}\")\n",
    "\n"
   ],
   "outputs": [
    {
     "output_type": "error",
     "ename": "AttributeError",
     "evalue": "'RegModels' object has no attribute 'resume_study'",
     "traceback": [
      "\u001b[0;31m---------------------------------------------------------------------------\u001b[0m",
      "\u001b[0;31mAttributeError\u001b[0m                            Traceback (most recent call last)",
      "\u001b[0;32m<ipython-input-7-5738383a720b>\u001b[0m in \u001b[0;36m<module>\u001b[0;34m\u001b[0m\n\u001b[0;32m----> 1\u001b[0;31m \u001b[0mstudy\u001b[0m \u001b[0;34m=\u001b[0m \u001b[0mreg\u001b[0m\u001b[0;34m.\u001b[0m\u001b[0mresume_study\u001b[0m\u001b[0;34m(\u001b[0m\u001b[0;34m\"studies\"\u001b[0m\u001b[0;34m,\u001b[0m\u001b[0;34m\"Lasso.pkl\"\u001b[0m\u001b[0;34m)\u001b[0m\u001b[0;34m\u001b[0m\u001b[0;34m\u001b[0m\u001b[0m\n\u001b[0m\u001b[1;32m      2\u001b[0m \u001b[0mstudy\u001b[0m\u001b[0;34m\u001b[0m\u001b[0;34m\u001b[0m\u001b[0m\n\u001b[1;32m      3\u001b[0m \u001b[0;31m# print(\"Best trial until now:\")\u001b[0m\u001b[0;34m\u001b[0m\u001b[0;34m\u001b[0m\u001b[0;34m\u001b[0m\u001b[0m\n\u001b[1;32m      4\u001b[0m \u001b[0;31m# print(\" Value: \", study.best_trial.value)\u001b[0m\u001b[0;34m\u001b[0m\u001b[0;34m\u001b[0m\u001b[0;34m\u001b[0m\u001b[0m\n\u001b[1;32m      5\u001b[0m \u001b[0;31m# print(\" Params: \")\u001b[0m\u001b[0;34m\u001b[0m\u001b[0;34m\u001b[0m\u001b[0;34m\u001b[0m\u001b[0m\n",
      "\u001b[0;31mAttributeError\u001b[0m: 'RegModels' object has no attribute 'resume_study'"
     ]
    }
   ],
   "metadata": {}
  },
  {
   "cell_type": "code",
   "execution_count": null,
   "source": [
    "\n",
    "def load_model(name, path):\n",
    "    import pickle\n",
    "    filename = path + '/' + name\n",
    "    loaded_model = pickle.load(open(filename, 'rb'))\n",
    "    return loaded_model\n",
    "\n",
    "model = load_model('Elastic_Net.sav',\"fitted_models_copy\")"
   ],
   "outputs": [],
   "metadata": {}
  },
  {
   "cell_type": "code",
   "execution_count": null,
   "source": [
    "model"
   ],
   "outputs": [
    {
     "output_type": "execute_result",
     "data": {
      "text/plain": [
       "ElasticNet(alpha=0.001, l1_ratio=0.9992814777929719)"
      ]
     },
     "metadata": {},
     "execution_count": 8
    }
   ],
   "metadata": {}
  },
  {
   "cell_type": "code",
   "execution_count": null,
   "source": [
    "\n",
    "\n",
    "reg.visualize_slice('Random_Forest')"
   ],
   "outputs": [
    {
     "output_type": "error",
     "ename": "KeyError",
     "evalue": "'Random_Forest'",
     "traceback": [
      "\u001b[0;31m---------------------------------------------------------------------------\u001b[0m",
      "\u001b[0;31mKeyError\u001b[0m                                  Traceback (most recent call last)",
      "\u001b[0;32m<ipython-input-9-0b783291b7d3>\u001b[0m in \u001b[0;36m<module>\u001b[0;34m\u001b[0m\n\u001b[0;32m----> 1\u001b[0;31m \u001b[0mreg\u001b[0m\u001b[0;34m.\u001b[0m\u001b[0mvisualize_slice\u001b[0m\u001b[0;34m(\u001b[0m\u001b[0;34m'Random_Forest'\u001b[0m\u001b[0;34m)\u001b[0m\u001b[0;34m\u001b[0m\u001b[0;34m\u001b[0m\u001b[0m\n\u001b[0m",
      "\u001b[0;32m/mnt/f/Programacao/python/RegModels/Reg_Models.py\u001b[0m in \u001b[0;36mvisualize_slice\u001b[0;34m(self, model_name, param_list)\u001b[0m\n\u001b[1;32m    130\u001b[0m     \u001b[0;32mdef\u001b[0m \u001b[0mvisualize_slice\u001b[0m\u001b[0;34m(\u001b[0m\u001b[0mself\u001b[0m\u001b[0;34m,\u001b[0m \u001b[0mmodel_name\u001b[0m\u001b[0;34m,\u001b[0m \u001b[0mparam_list\u001b[0m\u001b[0;34m=\u001b[0m\u001b[0;32mFalse\u001b[0m\u001b[0;34m)\u001b[0m\u001b[0;34m:\u001b[0m\u001b[0;34m\u001b[0m\u001b[0;34m\u001b[0m\u001b[0m\n\u001b[1;32m    131\u001b[0m         \u001b[0;32mif\u001b[0m \u001b[0mself\u001b[0m\u001b[0;34m.\u001b[0m\u001b[0mstudy_list\u001b[0m\u001b[0;34m:\u001b[0m\u001b[0;34m\u001b[0m\u001b[0;34m\u001b[0m\u001b[0m\n\u001b[0;32m--> 132\u001b[0;31m             \u001b[0mfig\u001b[0m \u001b[0;34m=\u001b[0m \u001b[0moptuna\u001b[0m\u001b[0;34m.\u001b[0m\u001b[0mvisualization\u001b[0m\u001b[0;34m.\u001b[0m\u001b[0mplot_slice\u001b[0m\u001b[0;34m(\u001b[0m\u001b[0mself\u001b[0m\u001b[0;34m.\u001b[0m\u001b[0mstudy_list\u001b[0m\u001b[0;34m[\u001b[0m\u001b[0mmodel_name\u001b[0m\u001b[0;34m]\u001b[0m\u001b[0;34m)\u001b[0m\u001b[0;34m\u001b[0m\u001b[0;34m\u001b[0m\u001b[0m\n\u001b[0m\u001b[1;32m    133\u001b[0m             \u001b[0mfig\u001b[0m\u001b[0;34m.\u001b[0m\u001b[0mshow\u001b[0m\u001b[0;34m(\u001b[0m\u001b[0;34m)\u001b[0m\u001b[0;34m\u001b[0m\u001b[0;34m\u001b[0m\u001b[0m\n\u001b[1;32m    134\u001b[0m \u001b[0;34m\u001b[0m\u001b[0m\n",
      "\u001b[0;31mKeyError\u001b[0m: 'Random_Forest'"
     ]
    }
   ],
   "metadata": {}
  },
  {
   "cell_type": "code",
   "execution_count": null,
   "source": [
    "print(reg.models_performace())"
   ],
   "outputs": [
    {
     "output_type": "stream",
     "name": "stdout",
     "text": [
      "                  MAE     MAPE      RMSE      R2\n",
      "Elastic_Net  2.884788  4.89855  3.629584  0.5915\n"
     ]
    }
   ],
   "metadata": {}
  },
  {
   "cell_type": "markdown",
   "source": [
    "## Bagging"
   ],
   "metadata": {}
  }
 ],
 "metadata": {
  "interpreter": {
   "hash": "916dbcbb3f70747c44a77c7bcd40155683ae19c65e1c03b4aa3499c5328201f1"
  },
  "kernelspec": {
   "name": "python3",
   "display_name": "Python 3.8.5 64-bit"
  },
  "language_info": {
   "codemirror_mode": {
    "name": "ipython",
    "version": 3
   },
   "file_extension": ".py",
   "mimetype": "text/x-python",
   "name": "python",
   "nbconvert_exporter": "python",
   "pygments_lexer": "ipython3",
   "version": "3.8.5"
  }
 },
 "nbformat": 4,
 "nbformat_minor": 2
}